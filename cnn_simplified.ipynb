{
 "cells": [
  {
   "cell_type": "markdown",
   "metadata": {},
   "source": [
    "## Importing the Keras libraries and packages"
   ]
  },
  {
   "cell_type": "code",
   "execution_count": 5,
   "metadata": {},
   "outputs": [],
   "source": [
    "from keras.models import Sequential\n",
    "from keras.layers import Convolution2D\n",
    "from keras.layers import MaxPooling2D\n",
    "from keras.layers import Flatten\n",
    "from keras.layers import Dense"
   ]
  },
  {
   "cell_type": "code",
   "execution_count": 6,
   "metadata": {},
   "outputs": [],
   "source": [
    "import warnings\n",
    "warnings.filterwarnings('ignore')"
   ]
  },
  {
   "cell_type": "markdown",
   "metadata": {},
   "source": [
    "## Create CNN"
   ]
  },
  {
   "cell_type": "code",
   "execution_count": 7,
   "metadata": {},
   "outputs": [],
   "source": [
    "# Initialising the CNN\n",
    "classifier = Sequential()\n",
    "\n",
    "# Step 1 - Convolution\n",
    "classifier.add(Convolution2D(32, 3, 3, input_shape = (64, 64, 3), activation = 'relu'))\n",
    "\n",
    "# Step 2 - Pooling\n",
    "classifier.add(MaxPooling2D(pool_size = (2, 2)))\n",
    "\n",
    "# Step 3 - Flattening\n",
    "classifier.add(Flatten())\n",
    "\n",
    "# Step 4 - Full connection\n",
    "classifier.add(Dense(output_dim = 128, activation = 'relu'))\n",
    "classifier.add(Dense(output_dim = 1, activation = 'sigmoid'))\n",
    "\n",
    "# Compiling the CNN\n",
    "classifier.compile(optimizer = 'adam', loss = 'binary_crossentropy', metrics = ['accuracy'])"
   ]
  },
  {
   "cell_type": "markdown",
   "metadata": {},
   "source": [
    "## Fitting the CNN to the images"
   ]
  },
  {
   "cell_type": "code",
   "execution_count": 8,
   "metadata": {},
   "outputs": [
    {
     "name": "stdout",
     "output_type": "stream",
     "text": [
      "Found 8000 images belonging to 2 classes.\n",
      "Found 2000 images belonging to 2 classes.\n",
      "Epoch 1/25\n",
      "250/250 [==============================] - 250s 1s/step - loss: 0.6381 - acc: 0.6240 - val_loss: 0.6817 - val_acc: 0.6425\n",
      "Epoch 2/25\n",
      "250/250 [==============================] - 341s 1s/step - loss: 0.5794 - acc: 0.6937 - val_loss: 0.5352 - val_acc: 0.7355\n",
      "Epoch 3/25\n",
      "250/250 [==============================] - 366s 1s/step - loss: 0.5525 - acc: 0.7177 - val_loss: 0.5368 - val_acc: 0.7366\n",
      "Epoch 4/25\n",
      "250/250 [==============================] - 338s 1s/step - loss: 0.5273 - acc: 0.7330 - val_loss: 0.5768 - val_acc: 0.7135\n",
      "Epoch 5/25\n",
      "250/250 [==============================] - 344s 1s/step - loss: 0.5066 - acc: 0.7536 - val_loss: 0.5239 - val_acc: 0.7365\n",
      "Epoch 6/25\n",
      "250/250 [==============================] - 223s 891ms/step - loss: 0.4948 - acc: 0.7579 - val_loss: 0.5307 - val_acc: 0.7513\n",
      "Epoch 7/25\n",
      "250/250 [==============================] - 220s 881ms/step - loss: 0.4778 - acc: 0.7663 - val_loss: 0.5142 - val_acc: 0.7621\n",
      "Epoch 8/25\n",
      "250/250 [==============================] - 217s 870ms/step - loss: 0.4525 - acc: 0.7815 - val_loss: 0.5418 - val_acc: 0.7639\n",
      "Epoch 9/25\n",
      "250/250 [==============================] - 218s 871ms/step - loss: 0.4468 - acc: 0.7891 - val_loss: 0.5017 - val_acc: 0.7716\n",
      "Epoch 10/25\n",
      "250/250 [==============================] - 252s 1s/step - loss: 0.4373 - acc: 0.7921 - val_loss: 0.6066 - val_acc: 0.7313\n",
      "Epoch 11/25\n",
      "250/250 [==============================] - 221s 883ms/step - loss: 0.4180 - acc: 0.8026 - val_loss: 0.5286 - val_acc: 0.7815\n",
      "Epoch 12/25\n",
      "250/250 [==============================] - 235s 939ms/step - loss: 0.4051 - acc: 0.8134 - val_loss: 0.5235 - val_acc: 0.7804\n",
      "Epoch 13/25\n",
      "250/250 [==============================] - 239s 954ms/step - loss: 0.4001 - acc: 0.8139 - val_loss: 0.5432 - val_acc: 0.7763\n",
      "Epoch 14/25\n",
      "250/250 [==============================] - 237s 946ms/step - loss: 0.3870 - acc: 0.8217 - val_loss: 0.5468 - val_acc: 0.7692\n",
      "Epoch 15/25\n",
      "250/250 [==============================] - 255s 1s/step - loss: 0.3715 - acc: 0.8337 - val_loss: 0.5449 - val_acc: 0.7808\n",
      "Epoch 16/25\n",
      "250/250 [==============================] - 227s 907ms/step - loss: 0.3572 - acc: 0.8364 - val_loss: 0.5768 - val_acc: 0.7744\n",
      "Epoch 17/25\n",
      "250/250 [==============================] - 237s 946ms/step - loss: 0.3459 - acc: 0.8458 - val_loss: 0.5588 - val_acc: 0.7726\n",
      "Epoch 18/25\n",
      "250/250 [==============================] - 246s 984ms/step - loss: 0.3295 - acc: 0.8571 - val_loss: 0.5577 - val_acc: 0.7750\n",
      "Epoch 19/25\n",
      "250/250 [==============================] - 242s 968ms/step - loss: 0.3192 - acc: 0.8595 - val_loss: 0.5668 - val_acc: 0.7772\n",
      "Epoch 20/25\n",
      "250/250 [==============================] - 231s 922ms/step - loss: 0.3166 - acc: 0.8640 - val_loss: 0.6156 - val_acc: 0.7664\n",
      "Epoch 21/25\n",
      "250/250 [==============================] - 234s 937ms/step - loss: 0.2997 - acc: 0.8720 - val_loss: 0.6411 - val_acc: 0.7635\n",
      "Epoch 22/25\n",
      "250/250 [==============================] - 230s 921ms/step - loss: 0.2873 - acc: 0.8776 - val_loss: 0.7560 - val_acc: 0.7510\n",
      "Epoch 23/25\n",
      "250/250 [==============================] - 236s 943ms/step - loss: 0.2698 - acc: 0.8878 - val_loss: 0.7107 - val_acc: 0.7556\n",
      "Epoch 24/25\n",
      "250/250 [==============================] - 219s 877ms/step - loss: 0.2682 - acc: 0.8853 - val_loss: 0.6690 - val_acc: 0.7649\n",
      "Epoch 25/25\n",
      "250/250 [==============================] - 225s 901ms/step - loss: 0.2570 - acc: 0.8891 - val_loss: 0.7185 - val_acc: 0.7502\n"
     ]
    },
    {
     "data": {
      "text/plain": [
       "<keras.callbacks.History at 0x26101bef2b0>"
      ]
     },
     "execution_count": 8,
     "metadata": {},
     "output_type": "execute_result"
    }
   ],
   "source": [
    "from keras.preprocessing.image import ImageDataGenerator\n",
    "\n",
    "train_datagen = ImageDataGenerator(rescale = 1./255,\n",
    "                                   shear_range = 0.2,\n",
    "                                   zoom_range = 0.2,\n",
    "                                   horizontal_flip = True)\n",
    "\n",
    "test_datagen = ImageDataGenerator(rescale = 1./255)\n",
    "\n",
    "training_set = train_datagen.flow_from_directory('dataset/training_set',\n",
    "                                                 target_size = (64, 64),\n",
    "                                                 batch_size = 32,\n",
    "                                                 class_mode = 'binary')\n",
    "\n",
    "test_set = test_datagen.flow_from_directory('dataset/test_set',\n",
    "                                            target_size = (64, 64),\n",
    "                                            batch_size = 32,\n",
    "                                            class_mode = 'binary')\n",
    "\n",
    "classifier.fit_generator(training_set,\n",
    "                         samples_per_epoch = 8000,\n",
    "                         nb_epoch = 25,\n",
    "                         validation_data = test_set,\n",
    "                         nb_val_samples = 2000)"
   ]
  },
  {
   "cell_type": "code",
   "execution_count": 10,
   "metadata": {},
   "outputs": [],
   "source": [
    "# Save the model\n",
    "classifier.save('models/cnn_simplified.h5')"
   ]
  },
  {
   "cell_type": "code",
   "execution_count": null,
   "metadata": {},
   "outputs": [],
   "source": []
  }
 ],
 "metadata": {
  "kernelspec": {
   "display_name": "Python 3",
   "language": "python",
   "name": "python3"
  },
  "language_info": {
   "codemirror_mode": {
    "name": "ipython",
    "version": 3
   },
   "file_extension": ".py",
   "mimetype": "text/x-python",
   "name": "python",
   "nbconvert_exporter": "python",
   "pygments_lexer": "ipython3",
   "version": "3.7.3"
  }
 },
 "nbformat": 4,
 "nbformat_minor": 2
}
