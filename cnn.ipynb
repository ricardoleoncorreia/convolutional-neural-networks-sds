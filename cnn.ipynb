{
 "cells": [
  {
   "cell_type": "markdown",
   "metadata": {},
   "source": [
    "## Importing the Keras libraries and packages"
   ]
  },
  {
   "cell_type": "code",
   "execution_count": 2,
   "metadata": {},
   "outputs": [
    {
     "name": "stderr",
     "output_type": "stream",
     "text": [
      "Using TensorFlow backend.\n"
     ]
    }
   ],
   "source": [
    "from keras.models import Sequential\n",
    "from keras.layers import Convolution2D\n",
    "from keras.layers import MaxPooling2D\n",
    "from keras.layers import Flatten\n",
    "from keras.layers import Dense"
   ]
  },
  {
   "cell_type": "code",
   "execution_count": 5,
   "metadata": {},
   "outputs": [],
   "source": [
    "import warnings\n",
    "warnings.filterwarnings('ignore')"
   ]
  },
  {
   "cell_type": "markdown",
   "metadata": {},
   "source": [
    "## Create CNN"
   ]
  },
  {
   "cell_type": "code",
   "execution_count": 6,
   "metadata": {},
   "outputs": [],
   "source": [
    "# Initialising the CNN\n",
    "classifier = Sequential()\n",
    "\n",
    "# Step 1 - Convolution\n",
    "classifier.add(Convolution2D(32, 3, 3, input_shape = (64, 64, 3), activation = 'relu'))\n",
    "\n",
    "# Step 2 - Pooling\n",
    "classifier.add(MaxPooling2D(pool_size = (2, 2)))\n",
    "\n",
    "# Adding a second convolutional layer\n",
    "classifier.add(Convolution2D(32, 3, 3, activation = 'relu'))\n",
    "classifier.add(MaxPooling2D(pool_size = (2, 2)))\n",
    "\n",
    "# Step 3 - Flattening\n",
    "classifier.add(Flatten())\n",
    "\n",
    "# Step 4 - Full connection\n",
    "classifier.add(Dense(output_dim = 128, activation = 'relu'))\n",
    "classifier.add(Dense(output_dim = 1, activation = 'sigmoid'))\n",
    "\n",
    "# Compiling the CNN\n",
    "classifier.compile(optimizer = 'adam', loss = 'binary_crossentropy', metrics = ['accuracy'])"
   ]
  },
  {
   "cell_type": "markdown",
   "metadata": {},
   "source": [
    "## Fitting the CNN to the images"
   ]
  },
  {
   "cell_type": "code",
   "execution_count": 7,
   "metadata": {},
   "outputs": [
    {
     "name": "stdout",
     "output_type": "stream",
     "text": [
      "Found 8000 images belonging to 2 classes.\n",
      "Found 2000 images belonging to 2 classes.\n",
      "Epoch 1/25\n",
      "250/250 [==============================] - 459s 2s/step - loss: 0.6722 - acc: 0.5786 - val_loss: 0.6093 - val_acc: 0.6664\n",
      "Epoch 2/25\n",
      "250/250 [==============================] - 512s 2s/step - loss: 0.6078 - acc: 0.6647 - val_loss: 0.6551 - val_acc: 0.6307\n",
      "Epoch 3/25\n",
      "250/250 [==============================] - 554s 2s/step - loss: 0.5600 - acc: 0.7130 - val_loss: 0.5645 - val_acc: 0.7170\n",
      "Epoch 4/25\n",
      "250/250 [==============================] - 619s 2s/step - loss: 0.5287 - acc: 0.7344 - val_loss: 0.4943 - val_acc: 0.7652\n",
      "Epoch 5/25\n",
      "250/250 [==============================] - 494s 2s/step - loss: 0.4983 - acc: 0.7594 - val_loss: 0.4857 - val_acc: 0.7699\n",
      "Epoch 6/25\n",
      "250/250 [==============================] - 360s 1s/step - loss: 0.4799 - acc: 0.7714 - val_loss: 0.4782 - val_acc: 0.7788\n",
      "Epoch 7/25\n",
      "250/250 [==============================] - 205s 820ms/step - loss: 0.4643 - acc: 0.7731 - val_loss: 0.5033 - val_acc: 0.7687\n",
      "Epoch 8/25\n",
      "250/250 [==============================] - 200s 799ms/step - loss: 0.4567 - acc: 0.7811 - val_loss: 0.4569 - val_acc: 0.7961\n",
      "Epoch 9/25\n",
      "250/250 [==============================] - 200s 800ms/step - loss: 0.4376 - acc: 0.7974 - val_loss: 0.4965 - val_acc: 0.7634\n",
      "Epoch 10/25\n",
      "250/250 [==============================] - 204s 817ms/step - loss: 0.4318 - acc: 0.7973 - val_loss: 0.4506 - val_acc: 0.7904\n",
      "Epoch 11/25\n",
      "250/250 [==============================] - 238s 951ms/step - loss: 0.4140 - acc: 0.8106 - val_loss: 0.4593 - val_acc: 0.7889\n",
      "Epoch 12/25\n",
      "250/250 [==============================] - 238s 953ms/step - loss: 0.4087 - acc: 0.8136 - val_loss: 0.4518 - val_acc: 0.7985\n",
      "Epoch 13/25\n",
      "250/250 [==============================] - 233s 933ms/step - loss: 0.3972 - acc: 0.8181 - val_loss: 0.4351 - val_acc: 0.8091\n",
      "Epoch 14/25\n",
      "250/250 [==============================] - 259s 1s/step - loss: 0.3943 - acc: 0.8187 - val_loss: 0.4612 - val_acc: 0.7863\n",
      "Epoch 15/25\n",
      "250/250 [==============================] - 280s 1s/step - loss: 0.3830 - acc: 0.8284 - val_loss: 0.4562 - val_acc: 0.7896\n",
      "Epoch 16/25\n",
      "250/250 [==============================] - 227s 906ms/step - loss: 0.3659 - acc: 0.8350 - val_loss: 0.4500 - val_acc: 0.8000\n",
      "Epoch 17/25\n",
      "250/250 [==============================] - 232s 927ms/step - loss: 0.3597 - acc: 0.8366 - val_loss: 0.4452 - val_acc: 0.8080\n",
      "Epoch 18/25\n",
      "250/250 [==============================] - 299s 1s/step - loss: 0.3525 - acc: 0.8450 - val_loss: 0.4788 - val_acc: 0.7962\n",
      "Epoch 19/25\n",
      "250/250 [==============================] - 317s 1s/step - loss: 0.3462 - acc: 0.8431 - val_loss: 0.4291 - val_acc: 0.8096\n",
      "Epoch 20/25\n",
      "250/250 [==============================] - 353s 1s/step - loss: 0.3288 - acc: 0.8499 - val_loss: 0.4606 - val_acc: 0.8030\n",
      "Epoch 21/25\n",
      "250/250 [==============================] - 252s 1s/step - loss: 0.3266 - acc: 0.8520 - val_loss: 0.4432 - val_acc: 0.8032\n",
      "Epoch 22/25\n",
      "250/250 [==============================] - 206s 826ms/step - loss: 0.3086 - acc: 0.8680 - val_loss: 0.5193 - val_acc: 0.7751\n",
      "Epoch 23/25\n",
      "250/250 [==============================] - 202s 810ms/step - loss: 0.2987 - acc: 0.8699 - val_loss: 0.4623 - val_acc: 0.8136\n",
      "Epoch 24/25\n",
      "250/250 [==============================] - 206s 824ms/step - loss: 0.3053 - acc: 0.8632 - val_loss: 0.5659 - val_acc: 0.7644\n",
      "Epoch 25/25\n",
      "250/250 [==============================] - 208s 834ms/step - loss: 0.2921 - acc: 0.8726 - val_loss: 0.4627 - val_acc: 0.8126\n"
     ]
    },
    {
     "data": {
      "text/plain": [
       "<keras.callbacks.History at 0x22de02ed908>"
      ]
     },
     "execution_count": 7,
     "metadata": {},
     "output_type": "execute_result"
    }
   ],
   "source": [
    "from keras.preprocessing.image import ImageDataGenerator\n",
    "\n",
    "train_datagen = ImageDataGenerator(rescale = 1./255,\n",
    "                                   shear_range = 0.2,\n",
    "                                   zoom_range = 0.2,\n",
    "                                   horizontal_flip = True)\n",
    "\n",
    "test_datagen = ImageDataGenerator(rescale = 1./255)\n",
    "\n",
    "training_set = train_datagen.flow_from_directory('dataset/training_set',\n",
    "                                                 target_size = (64, 64),\n",
    "                                                 batch_size = 32,\n",
    "                                                 class_mode = 'binary')\n",
    "\n",
    "test_set = test_datagen.flow_from_directory('dataset/test_set',\n",
    "                                            target_size = (64, 64),\n",
    "                                            batch_size = 32,\n",
    "                                            class_mode = 'binary')\n",
    "\n",
    "classifier.fit_generator(training_set,\n",
    "                         samples_per_epoch = 8000,\n",
    "                         nb_epoch = 25,\n",
    "                         validation_data = test_set,\n",
    "                         nb_val_samples = 2000)"
   ]
  },
  {
   "cell_type": "code",
   "execution_count": 54,
   "metadata": {},
   "outputs": [],
   "source": [
    "# Save the model\n",
    "classifier.save('models/cnn.h5')"
   ]
  },
  {
   "cell_type": "code",
   "execution_count": 55,
   "metadata": {},
   "outputs": [],
   "source": [
    "# Save class indeces\n",
    "import json\n",
    "\n",
    "categories = { str(value): label for label, value in test_set.class_indices.items() }\n",
    "\n",
    "with open('class_indeces.json', 'w') as json_file:\n",
    "    json.dump(categories, json_file)"
   ]
  },
  {
   "cell_type": "code",
   "execution_count": null,
   "metadata": {},
   "outputs": [],
   "source": []
  }
 ],
 "metadata": {
  "kernelspec": {
   "display_name": "Python 3",
   "language": "python",
   "name": "python3"
  },
  "language_info": {
   "codemirror_mode": {
    "name": "ipython",
    "version": 3
   },
   "file_extension": ".py",
   "mimetype": "text/x-python",
   "name": "python",
   "nbconvert_exporter": "python",
   "pygments_lexer": "ipython3",
   "version": "3.7.3"
  }
 },
 "nbformat": 4,
 "nbformat_minor": 2
}
